{
 "cells": [
  {
   "cell_type": "code",
   "execution_count": 1,
   "metadata": {},
   "outputs": [],
   "source": [
    "import numpy as np\n",
    "import pandas as pd\n"
   ]
  },
  {
   "cell_type": "code",
   "execution_count": 2,
   "metadata": {},
   "outputs": [],
   "source": [
    "df = pd.read_csv(\"data.csv\")"
   ]
  },
  {
   "cell_type": "code",
   "execution_count": 3,
   "metadata": {},
   "outputs": [
    {
     "name": "stdout",
     "output_type": "stream",
     "text": [
      "<class 'pandas.core.frame.DataFrame'>\n",
      "RangeIndex: 198 entries, 0 to 197\n",
      "Columns: 127 entries, Unnamed: 0 to 1975.2\n",
      "dtypes: object(127)\n",
      "memory usage: 196.6+ KB\n"
     ]
    }
   ],
   "source": [
    "df.info()"
   ]
  },
  {
   "cell_type": "code",
   "execution_count": 4,
   "metadata": {},
   "outputs": [
    {
     "data": {
      "text/html": [
       "<div>\n",
       "<style scoped>\n",
       "    .dataframe tbody tr th:only-of-type {\n",
       "        vertical-align: middle;\n",
       "    }\n",
       "\n",
       "    .dataframe tbody tr th {\n",
       "        vertical-align: top;\n",
       "    }\n",
       "\n",
       "    .dataframe thead th {\n",
       "        text-align: right;\n",
       "    }\n",
       "</style>\n",
       "<table border=\"1\" class=\"dataframe\">\n",
       "  <thead>\n",
       "    <tr style=\"text-align: right;\">\n",
       "      <th></th>\n",
       "      <th>Unnamed: 0</th>\n",
       "      <th>2016</th>\n",
       "      <th>2016.1</th>\n",
       "      <th>2016.2</th>\n",
       "      <th>2015</th>\n",
       "      <th>2015.1</th>\n",
       "      <th>2015.2</th>\n",
       "      <th>2014</th>\n",
       "      <th>2014.1</th>\n",
       "      <th>2014.2</th>\n",
       "      <th>...</th>\n",
       "      <th>1978.2</th>\n",
       "      <th>1977</th>\n",
       "      <th>1977.1</th>\n",
       "      <th>1977.2</th>\n",
       "      <th>1976</th>\n",
       "      <th>1976.1</th>\n",
       "      <th>1976.2</th>\n",
       "      <th>1975</th>\n",
       "      <th>1975.1</th>\n",
       "      <th>1975.2</th>\n",
       "    </tr>\n",
       "  </thead>\n",
       "  <tbody>\n",
       "    <tr>\n",
       "      <th>0</th>\n",
       "      <td>NaN</td>\n",
       "      <td>Prevalence of obesity among adults, BMI &amp;Great...</td>\n",
       "      <td>Prevalence of obesity among adults, BMI &amp;Great...</td>\n",
       "      <td>Prevalence of obesity among adults, BMI &amp;Great...</td>\n",
       "      <td>Prevalence of obesity among adults, BMI &amp;Great...</td>\n",
       "      <td>Prevalence of obesity among adults, BMI &amp;Great...</td>\n",
       "      <td>Prevalence of obesity among adults, BMI &amp;Great...</td>\n",
       "      <td>Prevalence of obesity among adults, BMI &amp;Great...</td>\n",
       "      <td>Prevalence of obesity among adults, BMI &amp;Great...</td>\n",
       "      <td>Prevalence of obesity among adults, BMI &amp;Great...</td>\n",
       "      <td>...</td>\n",
       "      <td>Prevalence of obesity among adults, BMI &amp;Great...</td>\n",
       "      <td>Prevalence of obesity among adults, BMI &amp;Great...</td>\n",
       "      <td>Prevalence of obesity among adults, BMI &amp;Great...</td>\n",
       "      <td>Prevalence of obesity among adults, BMI &amp;Great...</td>\n",
       "      <td>Prevalence of obesity among adults, BMI &amp;Great...</td>\n",
       "      <td>Prevalence of obesity among adults, BMI &amp;Great...</td>\n",
       "      <td>Prevalence of obesity among adults, BMI &amp;Great...</td>\n",
       "      <td>Prevalence of obesity among adults, BMI &amp;Great...</td>\n",
       "      <td>Prevalence of obesity among adults, BMI &amp;Great...</td>\n",
       "      <td>Prevalence of obesity among adults, BMI &amp;Great...</td>\n",
       "    </tr>\n",
       "    <tr>\n",
       "      <th>1</th>\n",
       "      <td>NaN</td>\n",
       "      <td>18+  years</td>\n",
       "      <td>18+  years</td>\n",
       "      <td>18+  years</td>\n",
       "      <td>18+  years</td>\n",
       "      <td>18+  years</td>\n",
       "      <td>18+  years</td>\n",
       "      <td>18+  years</td>\n",
       "      <td>18+  years</td>\n",
       "      <td>18+  years</td>\n",
       "      <td>...</td>\n",
       "      <td>18+  years</td>\n",
       "      <td>18+  years</td>\n",
       "      <td>18+  years</td>\n",
       "      <td>18+  years</td>\n",
       "      <td>18+  years</td>\n",
       "      <td>18+  years</td>\n",
       "      <td>18+  years</td>\n",
       "      <td>18+  years</td>\n",
       "      <td>18+  years</td>\n",
       "      <td>18+  years</td>\n",
       "    </tr>\n",
       "    <tr>\n",
       "      <th>2</th>\n",
       "      <td>Country</td>\n",
       "      <td>Both sexes</td>\n",
       "      <td>Male</td>\n",
       "      <td>Female</td>\n",
       "      <td>Both sexes</td>\n",
       "      <td>Male</td>\n",
       "      <td>Female</td>\n",
       "      <td>Both sexes</td>\n",
       "      <td>Male</td>\n",
       "      <td>Female</td>\n",
       "      <td>...</td>\n",
       "      <td>Female</td>\n",
       "      <td>Both sexes</td>\n",
       "      <td>Male</td>\n",
       "      <td>Female</td>\n",
       "      <td>Both sexes</td>\n",
       "      <td>Male</td>\n",
       "      <td>Female</td>\n",
       "      <td>Both sexes</td>\n",
       "      <td>Male</td>\n",
       "      <td>Female</td>\n",
       "    </tr>\n",
       "    <tr>\n",
       "      <th>3</th>\n",
       "      <td>Afghanistan</td>\n",
       "      <td>5.5 [3.4-8.1]</td>\n",
       "      <td>3.2 [1.3-6.4]</td>\n",
       "      <td>7.6 [4.3-12.4]</td>\n",
       "      <td>5.2 [3.3-7.7]</td>\n",
       "      <td>3.0 [1.3-6.0]</td>\n",
       "      <td>7.3 [4.1-11.8]</td>\n",
       "      <td>4.9 [3.1-7.3]</td>\n",
       "      <td>2.8 [1.2-5.6]</td>\n",
       "      <td>7.0 [4.0-11.3]</td>\n",
       "      <td>...</td>\n",
       "      <td>0.9 [0.3-2.2]</td>\n",
       "      <td>0.6 [0.2-1.2]</td>\n",
       "      <td>0.2 [0.0-0.7]</td>\n",
       "      <td>0.9 [0.3-2.1]</td>\n",
       "      <td>0.5 [0.2-1.1]</td>\n",
       "      <td>0.2 [0.0-0.7]</td>\n",
       "      <td>0.8 [0.2-2.0]</td>\n",
       "      <td>0.5 [0.2-1.1]</td>\n",
       "      <td>0.2 [0.0-0.6]</td>\n",
       "      <td>0.8 [0.2-2.0]</td>\n",
       "    </tr>\n",
       "    <tr>\n",
       "      <th>4</th>\n",
       "      <td>Albania</td>\n",
       "      <td>21.7 [17.0-26.7]</td>\n",
       "      <td>21.6 [14.8-29.0]</td>\n",
       "      <td>21.8 [15.3-28.9]</td>\n",
       "      <td>21.1 [16.6-26.0]</td>\n",
       "      <td>20.9 [14.4-28.1]</td>\n",
       "      <td>21.3 [15.1-28.1]</td>\n",
       "      <td>20.5 [16.2-25.1]</td>\n",
       "      <td>20.2 [13.9-27.3]</td>\n",
       "      <td>20.8 [14.9-27.4]</td>\n",
       "      <td>...</td>\n",
       "      <td>9.1 [4.6-15.5]</td>\n",
       "      <td>6.8 [4.0-10.7]</td>\n",
       "      <td>4.8 [2.0-9.3]</td>\n",
       "      <td>8.9 [4.3-15.4]</td>\n",
       "      <td>6.7 [3.8-10.6]</td>\n",
       "      <td>4.6 [1.8-9.2]</td>\n",
       "      <td>8.8 [4.1-15.4]</td>\n",
       "      <td>6.5 [3.6-10.5]</td>\n",
       "      <td>4.4 [1.7-9.2]</td>\n",
       "      <td>8.6 [3.9-15.4]</td>\n",
       "    </tr>\n",
       "  </tbody>\n",
       "</table>\n",
       "<p>5 rows × 127 columns</p>\n",
       "</div>"
      ],
      "text/plain": [
       "    Unnamed: 0                                               2016  \\\n",
       "0          NaN  Prevalence of obesity among adults, BMI &Great...   \n",
       "1          NaN                                         18+  years   \n",
       "2      Country                                         Both sexes   \n",
       "3  Afghanistan                                      5.5 [3.4-8.1]   \n",
       "4      Albania                                   21.7 [17.0-26.7]   \n",
       "\n",
       "                                              2016.1  \\\n",
       "0  Prevalence of obesity among adults, BMI &Great...   \n",
       "1                                         18+  years   \n",
       "2                                               Male   \n",
       "3                                      3.2 [1.3-6.4]   \n",
       "4                                   21.6 [14.8-29.0]   \n",
       "\n",
       "                                              2016.2  \\\n",
       "0  Prevalence of obesity among adults, BMI &Great...   \n",
       "1                                         18+  years   \n",
       "2                                             Female   \n",
       "3                                     7.6 [4.3-12.4]   \n",
       "4                                   21.8 [15.3-28.9]   \n",
       "\n",
       "                                                2015  \\\n",
       "0  Prevalence of obesity among adults, BMI &Great...   \n",
       "1                                         18+  years   \n",
       "2                                         Both sexes   \n",
       "3                                      5.2 [3.3-7.7]   \n",
       "4                                   21.1 [16.6-26.0]   \n",
       "\n",
       "                                              2015.1  \\\n",
       "0  Prevalence of obesity among adults, BMI &Great...   \n",
       "1                                         18+  years   \n",
       "2                                               Male   \n",
       "3                                      3.0 [1.3-6.0]   \n",
       "4                                   20.9 [14.4-28.1]   \n",
       "\n",
       "                                              2015.2  \\\n",
       "0  Prevalence of obesity among adults, BMI &Great...   \n",
       "1                                         18+  years   \n",
       "2                                             Female   \n",
       "3                                     7.3 [4.1-11.8]   \n",
       "4                                   21.3 [15.1-28.1]   \n",
       "\n",
       "                                                2014  \\\n",
       "0  Prevalence of obesity among adults, BMI &Great...   \n",
       "1                                         18+  years   \n",
       "2                                         Both sexes   \n",
       "3                                      4.9 [3.1-7.3]   \n",
       "4                                   20.5 [16.2-25.1]   \n",
       "\n",
       "                                              2014.1  \\\n",
       "0  Prevalence of obesity among adults, BMI &Great...   \n",
       "1                                         18+  years   \n",
       "2                                               Male   \n",
       "3                                      2.8 [1.2-5.6]   \n",
       "4                                   20.2 [13.9-27.3]   \n",
       "\n",
       "                                              2014.2  ...  \\\n",
       "0  Prevalence of obesity among adults, BMI &Great...  ...   \n",
       "1                                         18+  years  ...   \n",
       "2                                             Female  ...   \n",
       "3                                     7.0 [4.0-11.3]  ...   \n",
       "4                                   20.8 [14.9-27.4]  ...   \n",
       "\n",
       "                                              1978.2  \\\n",
       "0  Prevalence of obesity among adults, BMI &Great...   \n",
       "1                                         18+  years   \n",
       "2                                             Female   \n",
       "3                                      0.9 [0.3-2.2]   \n",
       "4                                     9.1 [4.6-15.5]   \n",
       "\n",
       "                                                1977  \\\n",
       "0  Prevalence of obesity among adults, BMI &Great...   \n",
       "1                                         18+  years   \n",
       "2                                         Both sexes   \n",
       "3                                      0.6 [0.2-1.2]   \n",
       "4                                     6.8 [4.0-10.7]   \n",
       "\n",
       "                                              1977.1  \\\n",
       "0  Prevalence of obesity among adults, BMI &Great...   \n",
       "1                                         18+  years   \n",
       "2                                               Male   \n",
       "3                                      0.2 [0.0-0.7]   \n",
       "4                                      4.8 [2.0-9.3]   \n",
       "\n",
       "                                              1977.2  \\\n",
       "0  Prevalence of obesity among adults, BMI &Great...   \n",
       "1                                         18+  years   \n",
       "2                                             Female   \n",
       "3                                      0.9 [0.3-2.1]   \n",
       "4                                     8.9 [4.3-15.4]   \n",
       "\n",
       "                                                1976  \\\n",
       "0  Prevalence of obesity among adults, BMI &Great...   \n",
       "1                                         18+  years   \n",
       "2                                         Both sexes   \n",
       "3                                      0.5 [0.2-1.1]   \n",
       "4                                     6.7 [3.8-10.6]   \n",
       "\n",
       "                                              1976.1  \\\n",
       "0  Prevalence of obesity among adults, BMI &Great...   \n",
       "1                                         18+  years   \n",
       "2                                               Male   \n",
       "3                                      0.2 [0.0-0.7]   \n",
       "4                                      4.6 [1.8-9.2]   \n",
       "\n",
       "                                              1976.2  \\\n",
       "0  Prevalence of obesity among adults, BMI &Great...   \n",
       "1                                         18+  years   \n",
       "2                                             Female   \n",
       "3                                      0.8 [0.2-2.0]   \n",
       "4                                     8.8 [4.1-15.4]   \n",
       "\n",
       "                                                1975  \\\n",
       "0  Prevalence of obesity among adults, BMI &Great...   \n",
       "1                                         18+  years   \n",
       "2                                         Both sexes   \n",
       "3                                      0.5 [0.2-1.1]   \n",
       "4                                     6.5 [3.6-10.5]   \n",
       "\n",
       "                                              1975.1  \\\n",
       "0  Prevalence of obesity among adults, BMI &Great...   \n",
       "1                                         18+  years   \n",
       "2                                               Male   \n",
       "3                                      0.2 [0.0-0.6]   \n",
       "4                                      4.4 [1.7-9.2]   \n",
       "\n",
       "                                              1975.2  \n",
       "0  Prevalence of obesity among adults, BMI &Great...  \n",
       "1                                         18+  years  \n",
       "2                                             Female  \n",
       "3                                      0.8 [0.2-2.0]  \n",
       "4                                     8.6 [3.9-15.4]  \n",
       "\n",
       "[5 rows x 127 columns]"
      ]
     },
     "execution_count": 4,
     "metadata": {},
     "output_type": "execute_result"
    }
   ],
   "source": [
    "# first 5 rows of dataset\n",
    "df.head()"
   ]
  },
  {
   "cell_type": "code",
   "execution_count": 5,
   "metadata": {},
   "outputs": [
    {
     "data": {
      "text/plain": [
       "Index(['Unnamed: 0', '2016', '2016.1', '2016.2', '2015', '2015.1', '2015.2',\n",
       "       '2014', '2014.1', '2014.2',\n",
       "       ...\n",
       "       '1978.2', '1977', '1977.1', '1977.2', '1976', '1976.1', '1976.2',\n",
       "       '1975', '1975.1', '1975.2'],\n",
       "      dtype='object', length=127)"
      ]
     },
     "execution_count": 5,
     "metadata": {},
     "output_type": "execute_result"
    }
   ],
   "source": [
    "# columns in the dataset\n",
    "df.columns"
   ]
  },
  {
   "cell_type": "code",
   "execution_count": 6,
   "metadata": {},
   "outputs": [
    {
     "data": {
      "text/plain": [
       "Index(['1976.1', '1976.2', '1975', '1975.1', '1975.2'], dtype='object')"
      ]
     },
     "execution_count": 6,
     "metadata": {},
     "output_type": "execute_result"
    }
   ],
   "source": [
    "df.columns[-5:]  # last 5 columns"
   ]
  },
  {
   "cell_type": "markdown",
   "metadata": {},
   "source": [
    "Except for the first 3 rows, the columns contain obesity rates from 1975 to 2016.\n"
   ]
  },
  {
   "cell_type": "markdown",
   "metadata": {},
   "source": [
    "The first 3 rows do not seem to be inline with the following lines. Let’s check the values in these rows. The unique function returns the unique values in a row or column"
   ]
  },
  {
   "cell_type": "code",
   "execution_count": 7,
   "metadata": {},
   "outputs": [
    {
     "data": {
      "text/plain": [
       "array([nan,\n",
       "       'Prevalence of obesity among adults, BMI &GreaterEqual; 30 (age-standardized estimate) (%)'],\n",
       "      dtype=object)"
      ]
     },
     "execution_count": 7,
     "metadata": {},
     "output_type": "execute_result"
    }
   ],
   "source": [
    "# checking unique vals in 1st row\n",
    "df.iloc[0,:].unique()"
   ]
  },
  {
   "cell_type": "code",
   "execution_count": 8,
   "metadata": {},
   "outputs": [
    {
     "data": {
      "text/plain": [
       "array([nan, '18+  years'], dtype=object)"
      ]
     },
     "execution_count": 8,
     "metadata": {},
     "output_type": "execute_result"
    }
   ],
   "source": [
    "# checking unique vals in 2nd row\n",
    "df.iloc[1,:].unique()"
   ]
  },
  {
   "cell_type": "markdown",
   "metadata": {},
   "source": [
    "The first 2 rows seem to define the entire dataset instead of individual columns. There is only one unique value and a NaN value in the first 2 rows so we can drop them.\n"
   ]
  },
  {
   "cell_type": "code",
   "execution_count": 9,
   "metadata": {},
   "outputs": [],
   "source": [
    "df.drop([0,1], axis=0, inplace=True) #axis=0 for rows"
   ]
  },
  {
   "cell_type": "code",
   "execution_count": 10,
   "metadata": {},
   "outputs": [
    {
     "data": {
      "text/html": [
       "<div>\n",
       "<style scoped>\n",
       "    .dataframe tbody tr th:only-of-type {\n",
       "        vertical-align: middle;\n",
       "    }\n",
       "\n",
       "    .dataframe tbody tr th {\n",
       "        vertical-align: top;\n",
       "    }\n",
       "\n",
       "    .dataframe thead th {\n",
       "        text-align: right;\n",
       "    }\n",
       "</style>\n",
       "<table border=\"1\" class=\"dataframe\">\n",
       "  <thead>\n",
       "    <tr style=\"text-align: right;\">\n",
       "      <th></th>\n",
       "      <th>Unnamed: 0</th>\n",
       "      <th>2016</th>\n",
       "      <th>2016.1</th>\n",
       "      <th>2016.2</th>\n",
       "      <th>2015</th>\n",
       "      <th>2015.1</th>\n",
       "      <th>2015.2</th>\n",
       "      <th>2014</th>\n",
       "      <th>2014.1</th>\n",
       "      <th>2014.2</th>\n",
       "      <th>...</th>\n",
       "      <th>1978.2</th>\n",
       "      <th>1977</th>\n",
       "      <th>1977.1</th>\n",
       "      <th>1977.2</th>\n",
       "      <th>1976</th>\n",
       "      <th>1976.1</th>\n",
       "      <th>1976.2</th>\n",
       "      <th>1975</th>\n",
       "      <th>1975.1</th>\n",
       "      <th>1975.2</th>\n",
       "    </tr>\n",
       "  </thead>\n",
       "  <tbody>\n",
       "    <tr>\n",
       "      <th>2</th>\n",
       "      <td>Country</td>\n",
       "      <td>Both sexes</td>\n",
       "      <td>Male</td>\n",
       "      <td>Female</td>\n",
       "      <td>Both sexes</td>\n",
       "      <td>Male</td>\n",
       "      <td>Female</td>\n",
       "      <td>Both sexes</td>\n",
       "      <td>Male</td>\n",
       "      <td>Female</td>\n",
       "      <td>...</td>\n",
       "      <td>Female</td>\n",
       "      <td>Both sexes</td>\n",
       "      <td>Male</td>\n",
       "      <td>Female</td>\n",
       "      <td>Both sexes</td>\n",
       "      <td>Male</td>\n",
       "      <td>Female</td>\n",
       "      <td>Both sexes</td>\n",
       "      <td>Male</td>\n",
       "      <td>Female</td>\n",
       "    </tr>\n",
       "    <tr>\n",
       "      <th>3</th>\n",
       "      <td>Afghanistan</td>\n",
       "      <td>5.5 [3.4-8.1]</td>\n",
       "      <td>3.2 [1.3-6.4]</td>\n",
       "      <td>7.6 [4.3-12.4]</td>\n",
       "      <td>5.2 [3.3-7.7]</td>\n",
       "      <td>3.0 [1.3-6.0]</td>\n",
       "      <td>7.3 [4.1-11.8]</td>\n",
       "      <td>4.9 [3.1-7.3]</td>\n",
       "      <td>2.8 [1.2-5.6]</td>\n",
       "      <td>7.0 [4.0-11.3]</td>\n",
       "      <td>...</td>\n",
       "      <td>0.9 [0.3-2.2]</td>\n",
       "      <td>0.6 [0.2-1.2]</td>\n",
       "      <td>0.2 [0.0-0.7]</td>\n",
       "      <td>0.9 [0.3-2.1]</td>\n",
       "      <td>0.5 [0.2-1.1]</td>\n",
       "      <td>0.2 [0.0-0.7]</td>\n",
       "      <td>0.8 [0.2-2.0]</td>\n",
       "      <td>0.5 [0.2-1.1]</td>\n",
       "      <td>0.2 [0.0-0.6]</td>\n",
       "      <td>0.8 [0.2-2.0]</td>\n",
       "    </tr>\n",
       "    <tr>\n",
       "      <th>4</th>\n",
       "      <td>Albania</td>\n",
       "      <td>21.7 [17.0-26.7]</td>\n",
       "      <td>21.6 [14.8-29.0]</td>\n",
       "      <td>21.8 [15.3-28.9]</td>\n",
       "      <td>21.1 [16.6-26.0]</td>\n",
       "      <td>20.9 [14.4-28.1]</td>\n",
       "      <td>21.3 [15.1-28.1]</td>\n",
       "      <td>20.5 [16.2-25.1]</td>\n",
       "      <td>20.2 [13.9-27.3]</td>\n",
       "      <td>20.8 [14.9-27.4]</td>\n",
       "      <td>...</td>\n",
       "      <td>9.1 [4.6-15.5]</td>\n",
       "      <td>6.8 [4.0-10.7]</td>\n",
       "      <td>4.8 [2.0-9.3]</td>\n",
       "      <td>8.9 [4.3-15.4]</td>\n",
       "      <td>6.7 [3.8-10.6]</td>\n",
       "      <td>4.6 [1.8-9.2]</td>\n",
       "      <td>8.8 [4.1-15.4]</td>\n",
       "      <td>6.5 [3.6-10.5]</td>\n",
       "      <td>4.4 [1.7-9.2]</td>\n",
       "      <td>8.6 [3.9-15.4]</td>\n",
       "    </tr>\n",
       "  </tbody>\n",
       "</table>\n",
       "<p>3 rows × 127 columns</p>\n",
       "</div>"
      ],
      "text/plain": [
       "    Unnamed: 0              2016            2016.1            2016.2  \\\n",
       "2      Country        Both sexes              Male            Female   \n",
       "3  Afghanistan     5.5 [3.4-8.1]     3.2 [1.3-6.4]    7.6 [4.3-12.4]   \n",
       "4      Albania  21.7 [17.0-26.7]  21.6 [14.8-29.0]  21.8 [15.3-28.9]   \n",
       "\n",
       "               2015            2015.1            2015.2              2014  \\\n",
       "2        Both sexes              Male            Female        Both sexes   \n",
       "3     5.2 [3.3-7.7]     3.0 [1.3-6.0]    7.3 [4.1-11.8]     4.9 [3.1-7.3]   \n",
       "4  21.1 [16.6-26.0]  20.9 [14.4-28.1]  21.3 [15.1-28.1]  20.5 [16.2-25.1]   \n",
       "\n",
       "             2014.1            2014.2  ...          1978.2            1977  \\\n",
       "2              Male            Female  ...          Female      Both sexes   \n",
       "3     2.8 [1.2-5.6]    7.0 [4.0-11.3]  ...   0.9 [0.3-2.2]   0.6 [0.2-1.2]   \n",
       "4  20.2 [13.9-27.3]  20.8 [14.9-27.4]  ...  9.1 [4.6-15.5]  6.8 [4.0-10.7]   \n",
       "\n",
       "          1977.1          1977.2            1976         1976.1  \\\n",
       "2           Male          Female      Both sexes           Male   \n",
       "3  0.2 [0.0-0.7]   0.9 [0.3-2.1]   0.5 [0.2-1.1]  0.2 [0.0-0.7]   \n",
       "4  4.8 [2.0-9.3]  8.9 [4.3-15.4]  6.7 [3.8-10.6]  4.6 [1.8-9.2]   \n",
       "\n",
       "           1976.2            1975         1975.1          1975.2  \n",
       "2          Female      Both sexes           Male          Female  \n",
       "3   0.8 [0.2-2.0]   0.5 [0.2-1.1]  0.2 [0.0-0.6]   0.8 [0.2-2.0]  \n",
       "4  8.8 [4.1-15.4]  6.5 [3.6-10.5]  4.4 [1.7-9.2]  8.6 [3.9-15.4]  \n",
       "\n",
       "[3 rows x 127 columns]"
      ]
     },
     "execution_count": 10,
     "metadata": {},
     "output_type": "execute_result"
    }
   ],
   "source": [
    "# check first 3 rows to make sure rows were dropped\n",
    "df.head(3)"
   ]
  },
  {
   "cell_type": "markdown",
   "metadata": {},
   "source": [
    "There are 3 columns for each year which contain the obesity rate for males, females, and average of the two. Since we can easily obtain the average from the male and female values, it is better to drop the columns that indicate the average value."
   ]
  },
  {
   "cell_type": "code",
   "execution_count": 11,
   "metadata": {},
   "outputs": [
    {
     "data": {
      "text/plain": [
       "Index(['2016', '2015', '2014', '2013', '2012', '2011', '2010', '2009', '2008',\n",
       "       '2007', '2006', '2005', '2004', '2003', '2002', '2001', '2000', '1999',\n",
       "       '1998', '1997', '1996', '1995', '1994', '1993', '1992', '1991', '1990',\n",
       "       '1989', '1988', '1987', '1986', '1985', '1984', '1983', '1982', '1981',\n",
       "       '1980', '1979', '1978', '1977', '1976', '1975'],\n",
       "      dtype='object')"
      ]
     },
     "execution_count": 11,
     "metadata": {},
     "output_type": "execute_result"
    }
   ],
   "source": [
    "# starting from the 1st col select every 3rd column\n",
    "df.columns[1::3]\n"
   ]
  },
  {
   "cell_type": "code",
   "execution_count": 12,
   "metadata": {},
   "outputs": [],
   "source": [
    "df.drop(df.columns[1::3], axis=1, inplace=True)"
   ]
  },
  {
   "cell_type": "code",
   "execution_count": 13,
   "metadata": {},
   "outputs": [
    {
     "data": {
      "text/plain": [
       "Index(['Unnamed: 0', '2016.1', '2016.2', '2015.1', '2015.2', '2014.1',\n",
       "       '2014.2', '2013.1', '2013.2', '2012.1', '2012.2', '2011.1', '2011.2',\n",
       "       '2010.1', '2010.2', '2009.1', '2009.2', '2008.1', '2008.2', '2007.1',\n",
       "       '2007.2', '2006.1', '2006.2', '2005.1', '2005.2', '2004.1', '2004.2',\n",
       "       '2003.1', '2003.2', '2002.1', '2002.2', '2001.1', '2001.2', '2000.1',\n",
       "       '2000.2', '1999.1', '1999.2', '1998.1', '1998.2', '1997.1', '1997.2',\n",
       "       '1996.1', '1996.2', '1995.1', '1995.2', '1994.1', '1994.2', '1993.1',\n",
       "       '1993.2', '1992.1', '1992.2', '1991.1', '1991.2', '1990.1', '1990.2',\n",
       "       '1989.1', '1989.2', '1988.1', '1988.2', '1987.1', '1987.2', '1986.1',\n",
       "       '1986.2', '1985.1', '1985.2', '1984.1', '1984.2', '1983.1', '1983.2',\n",
       "       '1982.1', '1982.2', '1981.1', '1981.2', '1980.1', '1980.2', '1979.1',\n",
       "       '1979.2', '1978.1', '1978.2', '1977.1', '1977.2', '1976.1', '1976.2',\n",
       "       '1975.1', '1975.2'],\n",
       "      dtype='object')"
      ]
     },
     "execution_count": 13,
     "metadata": {},
     "output_type": "execute_result"
    }
   ],
   "source": [
    "# checking to see if cols were dropped\n",
    "df.columns"
   ]
  },
  {
   "cell_type": "markdown",
   "metadata": {},
   "source": [
    "We already know 1 means male and 2 means female. Thus, we can rename the first column as “Country” and drop the first row."
   ]
  },
  {
   "cell_type": "code",
   "execution_count": 14,
   "metadata": {},
   "outputs": [],
   "source": [
    "# renaming first col as Country\n",
    "df.rename(columns={'Unnamed: 0': 'Country'}, inplace=True)"
   ]
  },
  {
   "cell_type": "code",
   "execution_count": 15,
   "metadata": {},
   "outputs": [],
   "source": [
    "# notice how the first row has an index of 2\n",
    "# this is due to the first 2 rows we dropped previously\n",
    "# the first row has an index of 2\n",
    "df.drop([2], axis=0, inplace=True)"
   ]
  },
  {
   "cell_type": "code",
   "execution_count": 16,
   "metadata": {},
   "outputs": [
    {
     "data": {
      "text/html": [
       "<div>\n",
       "<style scoped>\n",
       "    .dataframe tbody tr th:only-of-type {\n",
       "        vertical-align: middle;\n",
       "    }\n",
       "\n",
       "    .dataframe tbody tr th {\n",
       "        vertical-align: top;\n",
       "    }\n",
       "\n",
       "    .dataframe thead th {\n",
       "        text-align: right;\n",
       "    }\n",
       "</style>\n",
       "<table border=\"1\" class=\"dataframe\">\n",
       "  <thead>\n",
       "    <tr style=\"text-align: right;\">\n",
       "      <th></th>\n",
       "      <th>Country</th>\n",
       "      <th>2016.1</th>\n",
       "      <th>2016.2</th>\n",
       "      <th>2015.1</th>\n",
       "      <th>2015.2</th>\n",
       "      <th>2014.1</th>\n",
       "      <th>2014.2</th>\n",
       "      <th>2013.1</th>\n",
       "      <th>2013.2</th>\n",
       "      <th>2012.1</th>\n",
       "      <th>...</th>\n",
       "      <th>1979.1</th>\n",
       "      <th>1979.2</th>\n",
       "      <th>1978.1</th>\n",
       "      <th>1978.2</th>\n",
       "      <th>1977.1</th>\n",
       "      <th>1977.2</th>\n",
       "      <th>1976.1</th>\n",
       "      <th>1976.2</th>\n",
       "      <th>1975.1</th>\n",
       "      <th>1975.2</th>\n",
       "    </tr>\n",
       "  </thead>\n",
       "  <tbody>\n",
       "    <tr>\n",
       "      <th>3</th>\n",
       "      <td>Afghanistan</td>\n",
       "      <td>3.2 [1.3-6.4]</td>\n",
       "      <td>7.6 [4.3-12.4]</td>\n",
       "      <td>3.0 [1.3-6.0]</td>\n",
       "      <td>7.3 [4.1-11.8]</td>\n",
       "      <td>2.8 [1.2-5.6]</td>\n",
       "      <td>7.0 [4.0-11.3]</td>\n",
       "      <td>2.7 [1.1-5.3]</td>\n",
       "      <td>6.6 [3.8-10.7]</td>\n",
       "      <td>2.5 [1.1-5.0]</td>\n",
       "      <td>...</td>\n",
       "      <td>0.3 [0.1-0.8]</td>\n",
       "      <td>1.0 [0.3-2.3]</td>\n",
       "      <td>0.2 [0.1-0.7]</td>\n",
       "      <td>0.9 [0.3-2.2]</td>\n",
       "      <td>0.2 [0.0-0.7]</td>\n",
       "      <td>0.9 [0.3-2.1]</td>\n",
       "      <td>0.2 [0.0-0.7]</td>\n",
       "      <td>0.8 [0.2-2.0]</td>\n",
       "      <td>0.2 [0.0-0.6]</td>\n",
       "      <td>0.8 [0.2-2.0]</td>\n",
       "    </tr>\n",
       "    <tr>\n",
       "      <th>4</th>\n",
       "      <td>Albania</td>\n",
       "      <td>21.6 [14.8-29.0]</td>\n",
       "      <td>21.8 [15.3-28.9]</td>\n",
       "      <td>20.9 [14.4-28.1]</td>\n",
       "      <td>21.3 [15.1-28.1]</td>\n",
       "      <td>20.2 [13.9-27.3]</td>\n",
       "      <td>20.8 [14.9-27.4]</td>\n",
       "      <td>19.5 [13.4-26.3]</td>\n",
       "      <td>20.4 [14.6-26.7]</td>\n",
       "      <td>18.8 [13.0-25.4]</td>\n",
       "      <td>...</td>\n",
       "      <td>5.2 [2.3-9.6]</td>\n",
       "      <td>9.3 [4.8-15.5]</td>\n",
       "      <td>5.0 [2.1-9.4]</td>\n",
       "      <td>9.1 [4.6-15.5]</td>\n",
       "      <td>4.8 [2.0-9.3]</td>\n",
       "      <td>8.9 [4.3-15.4]</td>\n",
       "      <td>4.6 [1.8-9.2]</td>\n",
       "      <td>8.8 [4.1-15.4]</td>\n",
       "      <td>4.4 [1.7-9.2]</td>\n",
       "      <td>8.6 [3.9-15.4]</td>\n",
       "    </tr>\n",
       "    <tr>\n",
       "      <th>5</th>\n",
       "      <td>Algeria</td>\n",
       "      <td>19.9 [13.6-27.1]</td>\n",
       "      <td>34.9 [27.6-42.7]</td>\n",
       "      <td>19.2 [13.2-26.1]</td>\n",
       "      <td>34.2 [27.1-41.7]</td>\n",
       "      <td>18.5 [12.7-25.0]</td>\n",
       "      <td>33.6 [26.7-40.7]</td>\n",
       "      <td>17.8 [12.3-24.1]</td>\n",
       "      <td>32.9 [26.4-39.8]</td>\n",
       "      <td>17.1 [11.9-23.2]</td>\n",
       "      <td>...</td>\n",
       "      <td>3.4 [1.4-6.6]</td>\n",
       "      <td>12.2 [6.9-18.9]</td>\n",
       "      <td>3.2 [1.3-6.4]</td>\n",
       "      <td>11.8 [6.5-18.6]</td>\n",
       "      <td>3.1 [1.2-6.2]</td>\n",
       "      <td>11.4 [6.2-18.4]</td>\n",
       "      <td>2.9 [1.1-6.1]</td>\n",
       "      <td>11.1 [5.8-18.2]</td>\n",
       "      <td>2.8 [1.0-6.0]</td>\n",
       "      <td>10.7 [5.5-18.0]</td>\n",
       "    </tr>\n",
       "  </tbody>\n",
       "</table>\n",
       "<p>3 rows × 85 columns</p>\n",
       "</div>"
      ],
      "text/plain": [
       "       Country            2016.1            2016.2            2015.1  \\\n",
       "3  Afghanistan     3.2 [1.3-6.4]    7.6 [4.3-12.4]     3.0 [1.3-6.0]   \n",
       "4      Albania  21.6 [14.8-29.0]  21.8 [15.3-28.9]  20.9 [14.4-28.1]   \n",
       "5      Algeria  19.9 [13.6-27.1]  34.9 [27.6-42.7]  19.2 [13.2-26.1]   \n",
       "\n",
       "             2015.2            2014.1            2014.2            2013.1  \\\n",
       "3    7.3 [4.1-11.8]     2.8 [1.2-5.6]    7.0 [4.0-11.3]     2.7 [1.1-5.3]   \n",
       "4  21.3 [15.1-28.1]  20.2 [13.9-27.3]  20.8 [14.9-27.4]  19.5 [13.4-26.3]   \n",
       "5  34.2 [27.1-41.7]  18.5 [12.7-25.0]  33.6 [26.7-40.7]  17.8 [12.3-24.1]   \n",
       "\n",
       "             2013.2            2012.1  ...         1979.1           1979.2  \\\n",
       "3    6.6 [3.8-10.7]     2.5 [1.1-5.0]  ...  0.3 [0.1-0.8]    1.0 [0.3-2.3]   \n",
       "4  20.4 [14.6-26.7]  18.8 [13.0-25.4]  ...  5.2 [2.3-9.6]   9.3 [4.8-15.5]   \n",
       "5  32.9 [26.4-39.8]  17.1 [11.9-23.2]  ...  3.4 [1.4-6.6]  12.2 [6.9-18.9]   \n",
       "\n",
       "          1978.1           1978.2         1977.1           1977.2  \\\n",
       "3  0.2 [0.1-0.7]    0.9 [0.3-2.2]  0.2 [0.0-0.7]    0.9 [0.3-2.1]   \n",
       "4  5.0 [2.1-9.4]   9.1 [4.6-15.5]  4.8 [2.0-9.3]   8.9 [4.3-15.4]   \n",
       "5  3.2 [1.3-6.4]  11.8 [6.5-18.6]  3.1 [1.2-6.2]  11.4 [6.2-18.4]   \n",
       "\n",
       "          1976.1           1976.2         1975.1           1975.2  \n",
       "3  0.2 [0.0-0.7]    0.8 [0.2-2.0]  0.2 [0.0-0.6]    0.8 [0.2-2.0]  \n",
       "4  4.6 [1.8-9.2]   8.8 [4.1-15.4]  4.4 [1.7-9.2]   8.6 [3.9-15.4]  \n",
       "5  2.9 [1.1-6.1]  11.1 [5.8-18.2]  2.8 [1.0-6.0]  10.7 [5.5-18.0]  \n",
       "\n",
       "[3 rows x 85 columns]"
      ]
     },
     "execution_count": 16,
     "metadata": {},
     "output_type": "execute_result"
    }
   ],
   "source": [
    "df.head(3)"
   ]
  },
  {
   "cell_type": "markdown",
   "metadata": {},
   "source": [
    "The dataset is in a wide format. It will easier to analyze in a long format in which the years are represented in one column instead of separate columns"
   ]
  },
  {
   "cell_type": "code",
   "execution_count": 17,
   "metadata": {},
   "outputs": [
    {
     "data": {
      "text/html": [
       "<div>\n",
       "<style scoped>\n",
       "    .dataframe tbody tr th:only-of-type {\n",
       "        vertical-align: middle;\n",
       "    }\n",
       "\n",
       "    .dataframe tbody tr th {\n",
       "        vertical-align: top;\n",
       "    }\n",
       "\n",
       "    .dataframe thead th {\n",
       "        text-align: right;\n",
       "    }\n",
       "</style>\n",
       "<table border=\"1\" class=\"dataframe\">\n",
       "  <thead>\n",
       "    <tr style=\"text-align: right;\">\n",
       "      <th></th>\n",
       "      <th>Country</th>\n",
       "      <th>Year</th>\n",
       "      <th>ObesityRate</th>\n",
       "    </tr>\n",
       "  </thead>\n",
       "  <tbody>\n",
       "    <tr>\n",
       "      <th>0</th>\n",
       "      <td>Afghanistan</td>\n",
       "      <td>2016.1</td>\n",
       "      <td>3.2 [1.3-6.4]</td>\n",
       "    </tr>\n",
       "    <tr>\n",
       "      <th>1</th>\n",
       "      <td>Albania</td>\n",
       "      <td>2016.1</td>\n",
       "      <td>21.6 [14.8-29.0]</td>\n",
       "    </tr>\n",
       "    <tr>\n",
       "      <th>2</th>\n",
       "      <td>Algeria</td>\n",
       "      <td>2016.1</td>\n",
       "      <td>19.9 [13.6-27.1]</td>\n",
       "    </tr>\n",
       "    <tr>\n",
       "      <th>3</th>\n",
       "      <td>Andorra</td>\n",
       "      <td>2016.1</td>\n",
       "      <td>25.9 [18.0-34.3]</td>\n",
       "    </tr>\n",
       "    <tr>\n",
       "      <th>4</th>\n",
       "      <td>Angola</td>\n",
       "      <td>2016.1</td>\n",
       "      <td>4.0 [1.6-7.9]</td>\n",
       "    </tr>\n",
       "  </tbody>\n",
       "</table>\n",
       "</div>"
      ],
      "text/plain": [
       "       Country    Year       ObesityRate\n",
       "0  Afghanistan  2016.1     3.2 [1.3-6.4]\n",
       "1      Albania  2016.1  21.6 [14.8-29.0]\n",
       "2      Algeria  2016.1  19.9 [13.6-27.1]\n",
       "3      Andorra  2016.1  25.9 [18.0-34.3]\n",
       "4       Angola  2016.1     4.0 [1.6-7.9]"
      ]
     },
     "execution_count": 17,
     "metadata": {},
     "output_type": "execute_result"
    }
   ],
   "source": [
    "# we use the melt function to tranform it to long format\n",
    "# we want to put all the years in a col called 'Year'\n",
    "# we also want to put the numbers in a column with each data point next to their adjacent years\n",
    "# and call the col 'ObesityRate'\n",
    "df = df.melt(\n",
    "   id_vars='Country', var_name='Year', value_name='ObesityRate'\n",
    ")\n",
    "df.head()"
   ]
  },
  {
   "cell_type": "markdown",
   "metadata": {},
   "source": [
    "notice how the index has been reset by the melt function"
   ]
  },
  {
   "cell_type": "code",
   "execution_count": 18,
   "metadata": {},
   "outputs": [
    {
     "name": "stdout",
     "output_type": "stream",
     "text": [
      "<class 'pandas.core.frame.DataFrame'>\n",
      "RangeIndex: 16380 entries, 0 to 16379\n",
      "Data columns (total 3 columns):\n",
      " #   Column       Non-Null Count  Dtype \n",
      "---  ------       --------------  ----- \n",
      " 0   Country      16380 non-null  object\n",
      " 1   Year         16380 non-null  object\n",
      " 2   ObesityRate  16380 non-null  object\n",
      "dtypes: object(3)\n",
      "memory usage: 384.0+ KB\n"
     ]
    }
   ],
   "source": [
    "df.info()"
   ]
  },
  {
   "cell_type": "markdown",
   "metadata": {},
   "source": [
    "notice how both **Year** and **ObesityRate** are strings when they should be int and datetime. We will take care of that later."
   ]
  },
  {
   "cell_type": "markdown",
   "metadata": {},
   "source": [
    "The obesity rate column includes an average value and a value range. We need to separate them and represent with numbers. For instance, we can have three columns which are the **average**, **lower limit**, and **upper limit**.\n"
   ]
  },
  {
   "cell_type": "code",
   "execution_count": 19,
   "metadata": {},
   "outputs": [],
   "source": [
    "# take the first num in 'ObesityRate' and put it in a new col called 'AvgObesityRate'\n",
    "df['AvgObesityRate'] = df.ObesityRate.str.split(' ', expand=True)[0] #Expand=Trye to split strings into separate columns."
   ]
  },
  {
   "cell_type": "code",
   "execution_count": 20,
   "metadata": {},
   "outputs": [],
   "source": [
    "df['LowerLimit'] = df.ObesityRate.str.split(' ', expand=True)[1].str.split('-', expand=True)[0].str[1:]\n"
   ]
  },
  {
   "cell_type": "code",
   "execution_count": 21,
   "metadata": {},
   "outputs": [],
   "source": [
    "df['UpperLimit'] = df.ObesityRate.str.split(' ', expand=True)[1].str.split('-', expand=True)[1].str[:-1]"
   ]
  },
  {
   "cell_type": "markdown",
   "metadata": {},
   "source": [
    "We first split the obesity rate column at space character which separates the range from the average value. We then split the range at the “-” character and use indexing to extract the limit values."
   ]
  },
  {
   "cell_type": "code",
   "execution_count": 22,
   "metadata": {},
   "outputs": [
    {
     "data": {
      "text/html": [
       "<div>\n",
       "<style scoped>\n",
       "    .dataframe tbody tr th:only-of-type {\n",
       "        vertical-align: middle;\n",
       "    }\n",
       "\n",
       "    .dataframe tbody tr th {\n",
       "        vertical-align: top;\n",
       "    }\n",
       "\n",
       "    .dataframe thead th {\n",
       "        text-align: right;\n",
       "    }\n",
       "</style>\n",
       "<table border=\"1\" class=\"dataframe\">\n",
       "  <thead>\n",
       "    <tr style=\"text-align: right;\">\n",
       "      <th></th>\n",
       "      <th>Country</th>\n",
       "      <th>Year</th>\n",
       "      <th>ObesityRate</th>\n",
       "      <th>AvgObesityRate</th>\n",
       "      <th>LowerLimit</th>\n",
       "      <th>UpperLimit</th>\n",
       "    </tr>\n",
       "  </thead>\n",
       "  <tbody>\n",
       "    <tr>\n",
       "      <th>3061</th>\n",
       "      <td>Poland</td>\n",
       "      <td>2009.2</td>\n",
       "      <td>20.5 [17.2-23.9]</td>\n",
       "      <td>20.5</td>\n",
       "      <td>17.2</td>\n",
       "      <td>23.9</td>\n",
       "    </tr>\n",
       "  </tbody>\n",
       "</table>\n",
       "</div>"
      ],
      "text/plain": [
       "     Country    Year       ObesityRate AvgObesityRate LowerLimit UpperLimit\n",
       "3061  Poland  2009.2  20.5 [17.2-23.9]           20.5       17.2       23.9"
      ]
     },
     "execution_count": 22,
     "metadata": {},
     "output_type": "execute_result"
    }
   ],
   "source": [
    "# take a random sample to check the result\n",
    "df.sample()"
   ]
  },
  {
   "cell_type": "markdown",
   "metadata": {},
   "source": [
    "we no longer need the **ObesityRate** col so we drop it "
   ]
  },
  {
   "cell_type": "code",
   "execution_count": 23,
   "metadata": {},
   "outputs": [
    {
     "data": {
      "text/html": [
       "<div>\n",
       "<style scoped>\n",
       "    .dataframe tbody tr th:only-of-type {\n",
       "        vertical-align: middle;\n",
       "    }\n",
       "\n",
       "    .dataframe tbody tr th {\n",
       "        vertical-align: top;\n",
       "    }\n",
       "\n",
       "    .dataframe thead th {\n",
       "        text-align: right;\n",
       "    }\n",
       "</style>\n",
       "<table border=\"1\" class=\"dataframe\">\n",
       "  <thead>\n",
       "    <tr style=\"text-align: right;\">\n",
       "      <th></th>\n",
       "      <th>Country</th>\n",
       "      <th>Year</th>\n",
       "      <th>AvgObesityRate</th>\n",
       "      <th>LowerLimit</th>\n",
       "      <th>UpperLimit</th>\n",
       "    </tr>\n",
       "  </thead>\n",
       "  <tbody>\n",
       "    <tr>\n",
       "      <th>3059</th>\n",
       "      <td>Peru</td>\n",
       "      <td>2009.2</td>\n",
       "      <td>21.2</td>\n",
       "      <td>17.8</td>\n",
       "      <td>24.9</td>\n",
       "    </tr>\n",
       "  </tbody>\n",
       "</table>\n",
       "</div>"
      ],
      "text/plain": [
       "     Country    Year AvgObesityRate LowerLimit UpperLimit\n",
       "3059    Peru  2009.2           21.2       17.8       24.9"
      ]
     },
     "execution_count": 23,
     "metadata": {},
     "output_type": "execute_result"
    }
   ],
   "source": [
    "df.drop('ObesityRate', axis=1, inplace=True)\n",
    "df.sample()"
   ]
  },
  {
   "cell_type": "markdown",
   "metadata": {},
   "source": [
    "The final step is to add the gender information. In the current format, the year column represents the gender (1 is male and 2 is female). We can separate the 1s and 2s from the year and replace them accordingly.\n"
   ]
  },
  {
   "cell_type": "code",
   "execution_count": 24,
   "metadata": {},
   "outputs": [],
   "source": [
    "# split on the '.' and take the number\n",
    "# if num =1 replace it with 'Male'\n",
    "#  if num = 2 replace it with 'Female'\n",
    "df['Gender'] = df['Year'].str.split('.', expand=True)[1].replace({'1': 'Male', '2': 'Female'})\n"
   ]
  },
  {
   "cell_type": "markdown",
   "metadata": {},
   "source": [
    ">Notice how using a dictionary in the replace function makes it possible to replace multiple values at once."
   ]
  },
  {
   "cell_type": "code",
   "execution_count": 25,
   "metadata": {},
   "outputs": [],
   "source": [
    "# get rid of the '.' and number behind it\n",
    "# split on '.' and take the first val(year)\n",
    "df['Year'] = df['Year'].str.split('.', expand=True)[0]\n"
   ]
  },
  {
   "cell_type": "code",
   "execution_count": 26,
   "metadata": {},
   "outputs": [
    {
     "data": {
      "text/html": [
       "<div>\n",
       "<style scoped>\n",
       "    .dataframe tbody tr th:only-of-type {\n",
       "        vertical-align: middle;\n",
       "    }\n",
       "\n",
       "    .dataframe tbody tr th {\n",
       "        vertical-align: top;\n",
       "    }\n",
       "\n",
       "    .dataframe thead th {\n",
       "        text-align: right;\n",
       "    }\n",
       "</style>\n",
       "<table border=\"1\" class=\"dataframe\">\n",
       "  <thead>\n",
       "    <tr style=\"text-align: right;\">\n",
       "      <th></th>\n",
       "      <th>Country</th>\n",
       "      <th>Year</th>\n",
       "      <th>AvgObesityRate</th>\n",
       "      <th>LowerLimit</th>\n",
       "      <th>UpperLimit</th>\n",
       "      <th>Gender</th>\n",
       "    </tr>\n",
       "  </thead>\n",
       "  <tbody>\n",
       "    <tr>\n",
       "      <th>7257</th>\n",
       "      <td>Croatia</td>\n",
       "      <td>1998</td>\n",
       "      <td>18.5</td>\n",
       "      <td>14.0</td>\n",
       "      <td>23.7</td>\n",
       "      <td>Female</td>\n",
       "    </tr>\n",
       "  </tbody>\n",
       "</table>\n",
       "</div>"
      ],
      "text/plain": [
       "      Country  Year AvgObesityRate LowerLimit UpperLimit  Gender\n",
       "7257  Croatia  1998           18.5       14.0       23.7  Female"
      ]
     },
     "execution_count": 26,
     "metadata": {},
     "output_type": "execute_result"
    }
   ],
   "source": [
    "df.sample()"
   ]
  },
  {
   "cell_type": "code",
   "execution_count": 27,
   "metadata": {},
   "outputs": [
    {
     "name": "stdout",
     "output_type": "stream",
     "text": [
      "<class 'pandas.core.frame.DataFrame'>\n",
      "RangeIndex: 16380 entries, 0 to 16379\n",
      "Data columns (total 6 columns):\n",
      " #   Column          Non-Null Count  Dtype \n",
      "---  ------          --------------  ----- \n",
      " 0   Country         16380 non-null  object\n",
      " 1   Year            16380 non-null  object\n",
      " 2   AvgObesityRate  16380 non-null  object\n",
      " 3   LowerLimit      16380 non-null  object\n",
      " 4   UpperLimit      16044 non-null  object\n",
      " 5   Gender          16380 non-null  object\n",
      "dtypes: object(6)\n",
      "memory usage: 767.9+ KB\n"
     ]
    }
   ],
   "source": [
    "df.info()"
   ]
  },
  {
   "cell_type": "markdown",
   "metadata": {},
   "source": [
    "- **Year** col should be converted to Datetime\n",
    "- **AvgObesityRate**, **LowerLimit** and **UpperLimit** should be converted to float"
   ]
  },
  {
   "cell_type": "markdown",
   "metadata": {},
   "source": [
    "let's first check that all these cols are clean before we convert them"
   ]
  },
  {
   "cell_type": "code",
   "execution_count": 38,
   "metadata": {},
   "outputs": [
    {
     "data": {
      "text/plain": [
       "2015    390\n",
       "2009    390\n",
       "1995    390\n",
       "1987    390\n",
       "1979    390\n",
       "2010    390\n",
       "2002    390\n",
       "1994    390\n",
       "1986    390\n",
       "1978    390\n",
       "2001    390\n",
       "2007    390\n",
       "1993    390\n",
       "1985    390\n",
       "1977    390\n",
       "2016    390\n",
       "2008    390\n",
       "2000    390\n",
       "1992    390\n",
       "1984    390\n",
       "2003    390\n",
       "2011    390\n",
       "1980    390\n",
       "1988    390\n",
       "1999    390\n",
       "1991    390\n",
       "1983    390\n",
       "1975    390\n",
       "2014    390\n",
       "2006    390\n",
       "1998    390\n",
       "1990    390\n",
       "1982    390\n",
       "2013    390\n",
       "2005    390\n",
       "1997    390\n",
       "1989    390\n",
       "1981    390\n",
       "2012    390\n",
       "2004    390\n",
       "1996    390\n",
       "1976    390\n",
       "Name: Year, dtype: int64"
      ]
     },
     "execution_count": 38,
     "metadata": {},
     "output_type": "execute_result"
    }
   ],
   "source": [
    "df.Year.value_counts()"
   ]
  },
  {
   "cell_type": "markdown",
   "metadata": {},
   "source": [
    "this col is clean"
   ]
  },
  {
   "cell_type": "code",
   "execution_count": 37,
   "metadata": {},
   "outputs": [
    {
     "data": {
      "text/plain": [
       "No      336\n",
       "0.4     193\n",
       "0.5     177\n",
       "0.3     163\n",
       "0.6     162\n",
       "       ... \n",
       "40.2      1\n",
       "59.6      1\n",
       "44.6      1\n",
       "53.3      1\n",
       "44.7      1\n",
       "Name: AvgObesityRate, Length: 586, dtype: int64"
      ]
     },
     "execution_count": 37,
     "metadata": {},
     "output_type": "execute_result"
    }
   ],
   "source": [
    "df.AvgObesityRate.value_counts()"
   ]
  },
  {
   "cell_type": "markdown",
   "metadata": {},
   "source": [
    "this col contains 'No's which shoud be converted to NaNs"
   ]
  },
  {
   "cell_type": "code",
   "execution_count": 42,
   "metadata": {},
   "outputs": [],
   "source": [
    "# replace all 'No's with np.nan\n",
    "df.AvgObesityRate.replace('No', np.nan, inplace=True)"
   ]
  },
  {
   "cell_type": "code",
   "execution_count": 43,
   "metadata": {},
   "outputs": [
    {
     "data": {
      "text/plain": [
       "0.4     193\n",
       "0.5     177\n",
       "0.3     163\n",
       "0.6     162\n",
       "0.7     152\n",
       "       ... \n",
       "60.6      1\n",
       "42.4      1\n",
       "44.6      1\n",
       "59.3      1\n",
       "44.7      1\n",
       "Name: AvgObesityRate, Length: 585, dtype: int64"
      ]
     },
     "execution_count": 43,
     "metadata": {},
     "output_type": "execute_result"
    }
   ],
   "source": [
    "# checking to make sure col is now clean\n",
    "df.AvgObesityRate.value_counts()"
   ]
  },
  {
   "cell_type": "code",
   "execution_count": 39,
   "metadata": {},
   "outputs": [
    {
     "data": {
      "text/plain": [
       "1.2     108\n",
       "1.0     105\n",
       "1.3     103\n",
       "1.4      95\n",
       "1.5      90\n",
       "       ... \n",
       "43.3      1\n",
       "56.1      1\n",
       "70.8      1\n",
       "48.9      1\n",
       "65.5      1\n",
       "Name: UpperLimit, Length: 653, dtype: int64"
      ]
     },
     "execution_count": 39,
     "metadata": {},
     "output_type": "execute_result"
    }
   ],
   "source": [
    "df.UpperLimit.value_counts()"
   ]
  },
  {
   "cell_type": "markdown",
   "metadata": {},
   "source": [
    "this col is clean"
   ]
  },
  {
   "cell_type": "code",
   "execution_count": 41,
   "metadata": {},
   "outputs": [
    {
     "data": {
      "text/plain": [
       "0.1     463\n",
       "0.2     346\n",
       "ata     336\n",
       "0.3     286\n",
       "0.4     258\n",
       "       ... \n",
       "45.0      1\n",
       "50.2      1\n",
       "51.8      1\n",
       "48.7      1\n",
       "47.4      1\n",
       "Name: LowerLimit, Length: 506, dtype: int64"
      ]
     },
     "execution_count": 41,
     "metadata": {},
     "output_type": "execute_result"
    }
   ],
   "source": [
    "df.LowerLimit.value_counts()"
   ]
  },
  {
   "cell_type": "markdown",
   "metadata": {},
   "source": [
    "**LowerLimit** contains 'No's which should be converted to NaNs"
   ]
  },
  {
   "cell_type": "code",
   "execution_count": 47,
   "metadata": {},
   "outputs": [],
   "source": [
    "df.LowerLimit.replace('ata', np.nan, inplace=True)"
   ]
  },
  {
   "cell_type": "code",
   "execution_count": 48,
   "metadata": {},
   "outputs": [],
   "source": [
    "df.AvgObesityRate = pd.to_numeric(df.AvgObesityRate)\n",
    "df.LowerLimit = pd.to_numeric(df.LowerLimit)\n",
    "df.UpperLimit = pd.to_numeric(df.UpperLimit)"
   ]
  },
  {
   "cell_type": "code",
   "execution_count": 50,
   "metadata": {},
   "outputs": [],
   "source": [
    "# convert 'Year' col to datetime\n",
    "df.Year = pd.to_datetime(df.Year)"
   ]
  },
  {
   "cell_type": "code",
   "execution_count": 51,
   "metadata": {},
   "outputs": [
    {
     "name": "stdout",
     "output_type": "stream",
     "text": [
      "<class 'pandas.core.frame.DataFrame'>\n",
      "RangeIndex: 16380 entries, 0 to 16379\n",
      "Data columns (total 6 columns):\n",
      " #   Column          Non-Null Count  Dtype         \n",
      "---  ------          --------------  -----         \n",
      " 0   Country         16380 non-null  object        \n",
      " 1   Year            16380 non-null  datetime64[ns]\n",
      " 2   AvgObesityRate  16044 non-null  float64       \n",
      " 3   LowerLimit      16044 non-null  float64       \n",
      " 4   UpperLimit      16044 non-null  float64       \n",
      " 5   Gender          16380 non-null  object        \n",
      "dtypes: datetime64[ns](1), float64(3), object(2)\n",
      "memory usage: 767.9+ KB\n"
     ]
    }
   ],
   "source": [
    "df.info()"
   ]
  },
  {
   "cell_type": "markdown",
   "metadata": {},
   "source": [
    "All Columns are now the correct data types!!"
   ]
  },
  {
   "cell_type": "code",
   "execution_count": 52,
   "metadata": {},
   "outputs": [],
   "source": [
    "# save the df as a csv\n",
    "df.to_csv('clean_data.csv')"
   ]
  },
  {
   "cell_type": "code",
   "execution_count": null,
   "metadata": {},
   "outputs": [],
   "source": []
  }
 ],
 "metadata": {
  "kernelspec": {
   "display_name": "Python 3",
   "language": "python",
   "name": "python3"
  },
  "language_info": {
   "codemirror_mode": {
    "name": "ipython",
    "version": 3
   },
   "file_extension": ".py",
   "mimetype": "text/x-python",
   "name": "python",
   "nbconvert_exporter": "python",
   "pygments_lexer": "ipython3",
   "version": "3.8.5"
  }
 },
 "nbformat": 4,
 "nbformat_minor": 4
}
